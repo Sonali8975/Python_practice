{
 "cells": [
  {
   "cell_type": "markdown",
   "id": "f8a79753",
   "metadata": {},
   "source": [
    "# Numpy tutorial\n",
    "\n",
    "**Numpy**\n",
    "*Numpy*\n",
    "***Numpy***"
   ]
  },
  {
   "cell_type": "markdown",
   "id": "4c0abe0d",
   "metadata": {},
   "source": [
    "#Numpy: provides efficient storage\n",
    "#fast, uses relatively less memory to store data\n",
    "#provide better ways to handle data for processing\n",
    "\n",
    "#Array: \n"
   ]
  },
  {
   "cell_type": "code",
   "execution_count": 1,
   "id": "f14a0de9",
   "metadata": {},
   "outputs": [],
   "source": [
    "import numpy as np"
   ]
  },
  {
   "cell_type": "code",
   "execution_count": 2,
   "id": "904247ed",
   "metadata": {},
   "outputs": [
    {
     "data": {
      "text/plain": [
       "array([1, 2, 3, 4])"
      ]
     },
     "execution_count": 2,
     "metadata": {},
     "output_type": "execute_result"
    }
   ],
   "source": [
    "myarr = np.array([1,2,3,4])\n",
    "myarr"
   ]
  },
  {
   "cell_type": "code",
   "execution_count": 3,
   "id": "9d4f0ff9",
   "metadata": {
    "scrolled": true
   },
   "outputs": [
    {
     "name": "stderr",
     "output_type": "stream",
     "text": [
      "C:\\Users\\sosangle\\AppData\\Local\\Temp\\ipykernel_13260\\3929338650.py:1: DeprecationWarning: NumPy will stop allowing conversion of out-of-bound Python integers to integer arrays.  The conversion of 796853 to int8 will fail in the future.\n",
      "For the old behavior, usually:\n",
      "    np.array(value).astype(dtype)\n",
      "will give the desired result (the cast overflows).\n",
      "  myarr = np.array([1,2,796853,4], np.int8)\n"
     ]
    },
    {
     "data": {
      "text/plain": [
       "array([  1,   2, -75,   4], dtype=int8)"
      ]
     },
     "execution_count": 3,
     "metadata": {},
     "output_type": "execute_result"
    }
   ],
   "source": [
    "myarr = np.array([1,2,796853,4], np.int8)\n",
    "myarr"
   ]
  },
  {
   "cell_type": "code",
   "execution_count": 4,
   "id": "2947e35a",
   "metadata": {},
   "outputs": [
    {
     "ename": "IndexError",
     "evalue": "too many indices for array: array is 1-dimensional, but 2 were indexed",
     "output_type": "error",
     "traceback": [
      "\u001b[1;31m---------------------------------------------------------------------------\u001b[0m",
      "\u001b[1;31mIndexError\u001b[0m                                Traceback (most recent call last)",
      "Cell \u001b[1;32mIn[4], line 1\u001b[0m\n\u001b[1;32m----> 1\u001b[0m \u001b[43mmyarr\u001b[49m\u001b[43m[\u001b[49m\u001b[38;5;241;43m0\u001b[39;49m\u001b[43m,\u001b[49m\u001b[38;5;241;43m1\u001b[39;49m\u001b[43m]\u001b[49m            \u001b[38;5;66;03m#will through error as array is 1D\u001b[39;00m\n",
      "\u001b[1;31mIndexError\u001b[0m: too many indices for array: array is 1-dimensional, but 2 were indexed"
     ]
    }
   ],
   "source": [
    "myarr[0,1]            #will through error as array is 1D"
   ]
  },
  {
   "cell_type": "code",
   "execution_count": 5,
   "id": "3cf9a3bd",
   "metadata": {},
   "outputs": [
    {
     "data": {
      "text/plain": [
       "2"
      ]
     },
     "execution_count": 5,
     "metadata": {},
     "output_type": "execute_result"
    }
   ],
   "source": [
    "myarr[1]"
   ]
  },
  {
   "cell_type": "code",
   "execution_count": 6,
   "id": "68f2362b",
   "metadata": {},
   "outputs": [
    {
     "data": {
      "text/plain": [
       "(4,)"
      ]
     },
     "execution_count": 6,
     "metadata": {},
     "output_type": "execute_result"
    }
   ],
   "source": [
    "myarr.shape\n"
   ]
  },
  {
   "cell_type": "code",
   "execution_count": 7,
   "id": "5d708e39",
   "metadata": {},
   "outputs": [
    {
     "data": {
      "text/plain": [
       "dtype('int8')"
      ]
     },
     "execution_count": 7,
     "metadata": {},
     "output_type": "execute_result"
    }
   ],
   "source": [
    "myarr.dtype\n"
   ]
  },
  {
   "cell_type": "code",
   "execution_count": null,
   "id": "5a006aa8",
   "metadata": {},
   "outputs": [],
   "source": [
    "myarr.size\n"
   ]
  },
  {
   "cell_type": "code",
   "execution_count": null,
   "id": "dfb5e317",
   "metadata": {},
   "outputs": [],
   "source": [
    "type(myarr)\n"
   ]
  },
  {
   "cell_type": "code",
   "execution_count": null,
   "id": "17f7a104",
   "metadata": {},
   "outputs": [],
   "source": [
    "myarr.ndim"
   ]
  },
  {
   "cell_type": "code",
   "execution_count": null,
   "id": "f61dc31c",
   "metadata": {},
   "outputs": [],
   "source": [
    "myarr = np.array([[1,2,3,4]])\n",
    "myarr.shape"
   ]
  },
  {
   "cell_type": "code",
   "execution_count": null,
   "id": "38be870a",
   "metadata": {},
   "outputs": [],
   "source": [
    "myarr[0,1]"
   ]
  },
  {
   "cell_type": "code",
   "execution_count": null,
   "id": "5e0c7ade",
   "metadata": {},
   "outputs": [],
   "source": [
    "myarr[0,1]=9\n",
    "myarr"
   ]
  },
  {
   "cell_type": "markdown",
   "id": "6b9f0bac",
   "metadata": {},
   "source": [
    "# Array creation using other objects"
   ]
  },
  {
   "cell_type": "code",
   "execution_count": null,
   "id": "8d06eb62",
   "metadata": {},
   "outputs": [],
   "source": [
    "listarray = np.array([[1,2,3], [4,5,6],[7,8,9]])\n",
    "listarray"
   ]
  },
  {
   "cell_type": "markdown",
   "id": "37949bb7",
   "metadata": {},
   "source": [
    "# intrinsic numpy array creation objects(arange, ones, zeros, etc)"
   ]
  },
  {
   "cell_type": "code",
   "execution_count": null,
   "id": "8d50eb1b",
   "metadata": {},
   "outputs": [],
   "source": [
    "# np by zeros: it will give the array of size (2,5) with value 0 for all positions\n",
    "zeros = np.zeros((2,5))\n",
    "zeros"
   ]
  },
  {
   "cell_type": "code",
   "execution_count": null,
   "id": "88a68032",
   "metadata": {},
   "outputs": [],
   "source": [
    "# np by arange(a-range): it will give the array of 0-14 values\n",
    "rng = np.arange(15)\n",
    "rng"
   ]
  },
  {
   "cell_type": "code",
   "execution_count": null,
   "id": "add90b5d",
   "metadata": {},
   "outputs": [],
   "source": [
    "# np by ones: it will give the array of size (2,5) with value 1 for all positions\n",
    "one = np.ones((2,5))     #or np.ones((2)) \n",
    "one"
   ]
  },
  {
   "cell_type": "code",
   "execution_count": null,
   "id": "9f3a5837",
   "metadata": {},
   "outputs": [],
   "source": [
    "# Linspace: it will give 1-20 linearlly/equally spaced 12 elements\n",
    "lspace = np.linspace(1, 20, 12)\n",
    "lspace"
   ]
  },
  {
   "cell_type": "code",
   "execution_count": null,
   "id": "dc253344",
   "metadata": {},
   "outputs": [],
   "source": [
    "lspace = np.linspace(1, 20, 20)\n",
    "lspace"
   ]
  },
  {
   "cell_type": "code",
   "execution_count": null,
   "id": "4e312131",
   "metadata": {},
   "outputs": [],
   "source": [
    "#it will give the empty array with random elemets and we can ressign those elemts\n",
    "emp = np.empty((4, 6))   \n",
    "emp"
   ]
  },
  {
   "cell_type": "code",
   "execution_count": null,
   "id": "fbc38d1b",
   "metadata": {},
   "outputs": [],
   "source": [
    "#it will give the empty array,elemets like passed array and we can ressign those elemts\n",
    "emp = np.empty_like(lspace)   \n",
    "emp"
   ]
  },
  {
   "cell_type": "code",
   "execution_count": null,
   "id": "ac455223",
   "metadata": {
    "scrolled": false
   },
   "outputs": [],
   "source": [
    "# will give the identity array or metrics\n",
    "ide = np.identity(5)\n",
    "ide"
   ]
  },
  {
   "cell_type": "code",
   "execution_count": null,
   "id": "ec02ab5c",
   "metadata": {},
   "outputs": [],
   "source": [
    "arr = np.arange(99)\n",
    "arr"
   ]
  },
  {
   "cell_type": "code",
   "execution_count": null,
   "id": "1620cecd",
   "metadata": {},
   "outputs": [],
   "source": [
    "# will reshape 1d array to nD array\n",
    "arr = arr.reshape(3, 33)\n",
    "arr"
   ]
  },
  {
   "cell_type": "code",
   "execution_count": null,
   "id": "bbb2f8dc",
   "metadata": {},
   "outputs": [],
   "source": [
    "# will reshape nd array to 1D array\n",
    "arr = arr.ravel()\n",
    "arr"
   ]
  },
  {
   "cell_type": "markdown",
   "id": "efbce500",
   "metadata": {},
   "source": [
    "# Axis:\n",
    "**1d array: no of axis 1 i.e., 0**\n",
    "\n",
    "**2d array: no of axis 2 i.e., 0(all columns),1(all rows)**\n",
    "    \n",
    "    e.g.,\n",
    "    [[1,2,3],[4,5,6],[7,8,9]]\n",
    "    sum_of_axis0 = [1+4+7, 2+5+8, 3+6+9] = [12, 15, 18]\n",
    "    sum_of_axis1 = [1+2+3, 4+5+6, 7+8+9] = [ 6, 15, 24]"
   ]
  },
  {
   "cell_type": "code",
   "execution_count": 23,
   "id": "4a4de389",
   "metadata": {},
   "outputs": [
    {
     "data": {
      "text/plain": [
       "array([[1, 2, 3],\n",
       "       [4, 0, 6],\n",
       "       [7, 8, 5]])"
      ]
     },
     "execution_count": 23,
     "metadata": {},
     "output_type": "execute_result"
    }
   ],
   "source": [
    "x = [[1,2,3],[4,0,6], [7,8,5]]\n",
    "arr = np.array(x)\n",
    "arr\n"
   ]
  },
  {
   "cell_type": "code",
   "execution_count": 24,
   "id": "cf5bea7d",
   "metadata": {},
   "outputs": [
    {
     "data": {
      "text/plain": [
       "array([12, 10, 14])"
      ]
     },
     "execution_count": 24,
     "metadata": {},
     "output_type": "execute_result"
    }
   ],
   "source": [
    "arr.sum(axis=0)"
   ]
  },
  {
   "cell_type": "code",
   "execution_count": 25,
   "id": "86d56ae4",
   "metadata": {},
   "outputs": [
    {
     "data": {
      "text/plain": [
       "array([ 6, 10, 20])"
      ]
     },
     "execution_count": 25,
     "metadata": {},
     "output_type": "execute_result"
    }
   ],
   "source": [
    "arr.sum(axis=1)"
   ]
  },
  {
   "cell_type": "code",
   "execution_count": 26,
   "id": "6ea19e73",
   "metadata": {},
   "outputs": [
    {
     "data": {
      "text/plain": [
       "array([[1, 4, 7],\n",
       "       [2, 0, 8],\n",
       "       [3, 6, 5]])"
      ]
     },
     "execution_count": 26,
     "metadata": {},
     "output_type": "execute_result"
    }
   ],
   "source": [
    "#Transpose of array\n",
    "arr.T"
   ]
  },
  {
   "cell_type": "code",
   "execution_count": 27,
   "id": "4eef889b",
   "metadata": {},
   "outputs": [
    {
     "name": "stdout",
     "output_type": "stream",
     "text": [
      "1\n",
      "2\n",
      "3\n",
      "4\n",
      "0\n",
      "6\n",
      "7\n",
      "8\n",
      "5\n"
     ]
    }
   ],
   "source": [
    "# will flatten the array\n",
    "for item in arr.flat:\n",
    "    print(item)"
   ]
  },
  {
   "cell_type": "code",
   "execution_count": 13,
   "id": "d179f44d",
   "metadata": {},
   "outputs": [
    {
     "data": {
      "text/plain": [
       "36"
      ]
     },
     "execution_count": 13,
     "metadata": {},
     "output_type": "execute_result"
    }
   ],
   "source": [
    "# total bytes consumed\n",
    "arr.nbytes"
   ]
  },
  {
   "cell_type": "code",
   "execution_count": 17,
   "id": "5438ebc5",
   "metadata": {},
   "outputs": [
    {
     "data": {
      "text/plain": [
       "3"
      ]
     },
     "execution_count": 17,
     "metadata": {},
     "output_type": "execute_result"
    }
   ],
   "source": [
    "# gives index of max element\n",
    "one = np.array([1,2,34,66, 4, 3])\n",
    "one.argmax()"
   ]
  },
  {
   "cell_type": "code",
   "execution_count": 15,
   "id": "d4d75175",
   "metadata": {},
   "outputs": [
    {
     "data": {
      "text/plain": [
       "0"
      ]
     },
     "execution_count": 15,
     "metadata": {},
     "output_type": "execute_result"
    }
   ],
   "source": [
    "one.argmin()"
   ]
  },
  {
   "cell_type": "code",
   "execution_count": 18,
   "id": "cc9f247a",
   "metadata": {},
   "outputs": [
    {
     "data": {
      "text/plain": [
       "array([0, 1, 5, 4, 2, 3], dtype=int64)"
      ]
     },
     "execution_count": 18,
     "metadata": {},
     "output_type": "execute_result"
    }
   ],
   "source": [
    "# gives the array of index sequence which will sort array\n",
    "one.argsort()"
   ]
  },
  {
   "cell_type": "code",
   "execution_count": 28,
   "id": "dfa4d9b4",
   "metadata": {},
   "outputs": [
    {
     "data": {
      "text/plain": [
       "array([[1, 2, 3],\n",
       "       [4, 0, 6],\n",
       "       [7, 8, 5]])"
      ]
     },
     "execution_count": 28,
     "metadata": {},
     "output_type": "execute_result"
    }
   ],
   "source": [
    "arr"
   ]
  },
  {
   "cell_type": "code",
   "execution_count": 35,
   "id": "64d8cb55",
   "metadata": {},
   "outputs": [
    {
     "data": {
      "text/plain": [
       "(4, 7)"
      ]
     },
     "execution_count": 35,
     "metadata": {},
     "output_type": "execute_result"
    }
   ],
   "source": [
    "# 1st it will flatten the array then search for min element and prints the index of that element\n",
    "arr.argmin(),    arr.argmax()"
   ]
  },
  {
   "cell_type": "code",
   "execution_count": 30,
   "id": "7106a7a4",
   "metadata": {},
   "outputs": [
    {
     "data": {
      "text/plain": [
       "array([[0, 1, 2],\n",
       "       [1, 0, 2],\n",
       "       [2, 0, 1]], dtype=int64)"
      ]
     },
     "execution_count": 30,
     "metadata": {},
     "output_type": "execute_result"
    }
   ],
   "source": [
    "arr.argsort()"
   ]
  },
  {
   "cell_type": "code",
   "execution_count": 31,
   "id": "5af714fb",
   "metadata": {},
   "outputs": [
    {
     "data": {
      "text/plain": [
       "(array([2, 2, 1], dtype=int64), '\\n', array([2, 2, 1], dtype=int64))"
      ]
     },
     "execution_count": 31,
     "metadata": {},
     "output_type": "execute_result"
    }
   ],
   "source": [
    "arr.argmax(axis = 0), '\\n', arr.argmax(axis = 1)"
   ]
  },
  {
   "cell_type": "code",
   "execution_count": 36,
   "id": "74ec56db",
   "metadata": {},
   "outputs": [
    {
     "data": {
      "text/plain": [
       "array([[0, 1, 0],\n",
       "       [1, 0, 2],\n",
       "       [2, 2, 1]], dtype=int64)"
      ]
     },
     "execution_count": 36,
     "metadata": {},
     "output_type": "execute_result"
    }
   ],
   "source": [
    "arr.argsort(axis=0)"
   ]
  },
  {
   "cell_type": "code",
   "execution_count": 37,
   "id": "aa9e796b",
   "metadata": {},
   "outputs": [
    {
     "data": {
      "text/plain": [
       "array([[0, 1, 2],\n",
       "       [1, 0, 2],\n",
       "       [2, 0, 1]], dtype=int64)"
      ]
     },
     "execution_count": 37,
     "metadata": {},
     "output_type": "execute_result"
    }
   ],
   "source": [
    "arr.argsort(axis=1)"
   ]
  },
  {
   "cell_type": "code",
   "execution_count": 39,
   "id": "57a5048b",
   "metadata": {},
   "outputs": [
    {
     "data": {
      "text/plain": [
       "array([1, 2, 3, 4, 0, 6, 7, 8, 5])"
      ]
     },
     "execution_count": 39,
     "metadata": {},
     "output_type": "execute_result"
    }
   ],
   "source": [
    "arr.ravel()"
   ]
  },
  {
   "cell_type": "code",
   "execution_count": 40,
   "id": "c10c53ca",
   "metadata": {},
   "outputs": [
    {
     "data": {
      "text/plain": [
       "array([[1, 2, 3],\n",
       "       [4, 0, 6],\n",
       "       [7, 8, 5]])"
      ]
     },
     "execution_count": 40,
     "metadata": {},
     "output_type": "execute_result"
    }
   ],
   "source": [
    "arr.reshape((3,3))"
   ]
  },
  {
   "cell_type": "code",
   "execution_count": 43,
   "id": "05edcf9c",
   "metadata": {},
   "outputs": [
    {
     "data": {
      "text/plain": [
       "array([[4, 2, 3],\n",
       "       [4, 0, 1],\n",
       "       [6, 1, 5]])"
      ]
     },
     "execution_count": 43,
     "metadata": {},
     "output_type": "execute_result"
    }
   ],
   "source": [
    "arr2 = np.array([[4,2,3],[4,0,1], [6,1,5]])\n",
    "arr2\n"
   ]
  },
  {
   "cell_type": "code",
   "execution_count": 44,
   "id": "2b1b2cb2",
   "metadata": {},
   "outputs": [
    {
     "data": {
      "text/plain": [
       "array([[ 5,  4,  6],\n",
       "       [ 8,  0,  7],\n",
       "       [13,  9, 10]])"
      ]
     },
     "execution_count": 44,
     "metadata": {},
     "output_type": "execute_result"
    }
   ],
   "source": [
    "arr + arr2"
   ]
  },
  {
   "cell_type": "markdown",
   "id": "c3e71377",
   "metadata": {},
   "source": [
    "# +\n",
    "if we use + for arr, it will add elements of two array but on list it will extend the list"
   ]
  },
  {
   "cell_type": "code",
   "execution_count": 45,
   "id": "6d6cecd1",
   "metadata": {},
   "outputs": [
    {
     "data": {
      "text/plain": [
       "array([[ 4,  4,  9],\n",
       "       [16,  0,  6],\n",
       "       [42,  8, 25]])"
      ]
     },
     "execution_count": 45,
     "metadata": {},
     "output_type": "execute_result"
    }
   ],
   "source": [
    "arr * arr2"
   ]
  },
  {
   "cell_type": "code",
   "execution_count": 47,
   "id": "dd903dde",
   "metadata": {},
   "outputs": [
    {
     "data": {
      "text/plain": [
       "array([[-3,  0,  0],\n",
       "       [ 0,  0,  5],\n",
       "       [ 1,  7,  0]])"
      ]
     },
     "execution_count": 47,
     "metadata": {},
     "output_type": "execute_result"
    }
   ],
   "source": [
    "arr - arr2"
   ]
  },
  {
   "cell_type": "code",
   "execution_count": 49,
   "id": "3f2213a8",
   "metadata": {},
   "outputs": [
    {
     "name": "stderr",
     "output_type": "stream",
     "text": [
      "C:\\Users\\sosangle\\AppData\\Local\\Temp\\ipykernel_13260\\2501189345.py:1: RuntimeWarning: invalid value encountered in divide\n",
      "  arr2 / arr\n"
     ]
    },
    {
     "data": {
      "text/plain": [
       "array([[4.        , 1.        , 1.        ],\n",
       "       [1.        ,        nan, 0.16666667],\n",
       "       [0.85714286, 0.125     , 1.        ]])"
      ]
     },
     "execution_count": 49,
     "metadata": {},
     "output_type": "execute_result"
    }
   ],
   "source": [
    "arr2 / arr"
   ]
  },
  {
   "cell_type": "code",
   "execution_count": 52,
   "id": "46dadd01",
   "metadata": {},
   "outputs": [
    {
     "data": {
      "text/plain": [
       "array([[2.        , 1.41421356, 1.73205081],\n",
       "       [2.        , 0.        , 1.        ],\n",
       "       [2.44948974, 1.        , 2.23606798]])"
      ]
     },
     "execution_count": 52,
     "metadata": {},
     "output_type": "execute_result"
    }
   ],
   "source": [
    "np.sqrt(arr2)"
   ]
  },
  {
   "cell_type": "code",
   "execution_count": 54,
   "id": "9869413a",
   "metadata": {},
   "outputs": [
    {
     "data": {
      "text/plain": [
       "(36, 8, 0)"
      ]
     },
     "execution_count": 54,
     "metadata": {},
     "output_type": "execute_result"
    }
   ],
   "source": [
    "# argmax or argmin will give the index of max or min element, but max & min will give the value of element\n",
    "arr.sum(), arr.max(), arr.min()"
   ]
  },
  {
   "cell_type": "code",
   "execution_count": 56,
   "id": "737def06",
   "metadata": {},
   "outputs": [
    {
     "data": {
      "text/plain": [
       "(array([1, 2, 2], dtype=int64), array([2, 0, 1], dtype=int64))"
      ]
     },
     "execution_count": 56,
     "metadata": {},
     "output_type": "execute_result"
    }
   ],
   "source": [
    "# to find the element: gives tuple of array of position index\n",
    "# o/p: [1, 2, 2], [2, 0, 1] => element at(1,2), (2,0),(2,1)\n",
    "np.where(arr>5)"
   ]
  },
  {
   "cell_type": "code",
   "execution_count": 57,
   "id": "0ce3c282",
   "metadata": {},
   "outputs": [
    {
     "data": {
      "text/plain": [
       "8"
      ]
     },
     "execution_count": 57,
     "metadata": {},
     "output_type": "execute_result"
    }
   ],
   "source": [
    "np.count_nonzero(arr)"
   ]
  },
  {
   "cell_type": "code",
   "execution_count": 58,
   "id": "2a542d26",
   "metadata": {},
   "outputs": [
    {
     "data": {
      "text/plain": [
       "(array([0, 0, 0, 1, 1, 2, 2, 2], dtype=int64),\n",
       " array([0, 1, 2, 0, 2, 0, 1, 2], dtype=int64))"
      ]
     },
     "execution_count": 58,
     "metadata": {},
     "output_type": "execute_result"
    }
   ],
   "source": [
    "np.nonzero(arr)"
   ]
  },
  {
   "cell_type": "code",
   "execution_count": 59,
   "id": "73b9cdce",
   "metadata": {},
   "outputs": [],
   "source": [
    "import sys"
   ]
  },
  {
   "cell_type": "code",
   "execution_count": 60,
   "id": "8c6f1233",
   "metadata": {},
   "outputs": [],
   "source": [
    "py_array = [0, 4, 55, 2]\n",
    "np_array = np.array(py_array)"
   ]
  },
  {
   "cell_type": "code",
   "execution_count": 68,
   "id": "deb19c13",
   "metadata": {},
   "outputs": [
    {
     "data": {
      "text/plain": [
       "4"
      ]
     },
     "execution_count": 68,
     "metadata": {},
     "output_type": "execute_result"
    }
   ],
   "source": [
    "sys.getsizeof(1) * len(py_array)"
   ]
  },
  {
   "cell_type": "code",
   "execution_count": 70,
   "id": "dc746700",
   "metadata": {},
   "outputs": [
    {
     "data": {
      "text/plain": [
       "4"
      ]
     },
     "execution_count": 70,
     "metadata": {},
     "output_type": "execute_result"
    }
   ],
   "source": [
    "np_array.itemsize * np_array.size"
   ]
  },
  {
   "cell_type": "code",
   "execution_count": 67,
   "id": "6161f730",
   "metadata": {},
   "outputs": [
    {
     "data": {
      "text/plain": [
       "28"
      ]
     },
     "execution_count": 67,
     "metadata": {},
     "output_type": "execute_result"
    }
   ],
   "source": [
    "sys.getsizeof(1)"
   ]
  },
  {
   "cell_type": "code",
   "execution_count": null,
   "id": "ba4724be",
   "metadata": {},
   "outputs": [],
   "source": []
  },
  {
   "cell_type": "code",
   "execution_count": null,
   "id": "4c4fa172",
   "metadata": {},
   "outputs": [],
   "source": []
  },
  {
   "cell_type": "code",
   "execution_count": null,
   "id": "768aebef",
   "metadata": {},
   "outputs": [],
   "source": []
  },
  {
   "cell_type": "code",
   "execution_count": null,
   "id": "364350fd",
   "metadata": {},
   "outputs": [],
   "source": []
  },
  {
   "cell_type": "code",
   "execution_count": null,
   "id": "a74990d5",
   "metadata": {},
   "outputs": [],
   "source": []
  },
  {
   "cell_type": "code",
   "execution_count": null,
   "id": "89d05ae7",
   "metadata": {},
   "outputs": [],
   "source": []
  },
  {
   "cell_type": "code",
   "execution_count": null,
   "id": "8536baa4",
   "metadata": {},
   "outputs": [],
   "source": []
  },
  {
   "cell_type": "code",
   "execution_count": null,
   "id": "398e094a",
   "metadata": {},
   "outputs": [],
   "source": []
  },
  {
   "cell_type": "code",
   "execution_count": null,
   "id": "f505eb1c",
   "metadata": {},
   "outputs": [],
   "source": []
  },
  {
   "cell_type": "code",
   "execution_count": null,
   "id": "c367dba2",
   "metadata": {},
   "outputs": [],
   "source": []
  },
  {
   "cell_type": "code",
   "execution_count": null,
   "id": "3051dd31",
   "metadata": {},
   "outputs": [],
   "source": []
  },
  {
   "cell_type": "code",
   "execution_count": null,
   "id": "72c90db0",
   "metadata": {},
   "outputs": [],
   "source": []
  },
  {
   "cell_type": "code",
   "execution_count": null,
   "id": "99d99093",
   "metadata": {},
   "outputs": [],
   "source": []
  },
  {
   "cell_type": "code",
   "execution_count": null,
   "id": "066db570",
   "metadata": {},
   "outputs": [],
   "source": []
  },
  {
   "cell_type": "code",
   "execution_count": null,
   "id": "241ef53b",
   "metadata": {},
   "outputs": [],
   "source": []
  },
  {
   "cell_type": "code",
   "execution_count": null,
   "id": "e30f1d3e",
   "metadata": {},
   "outputs": [],
   "source": []
  },
  {
   "cell_type": "code",
   "execution_count": null,
   "id": "264ed94c",
   "metadata": {},
   "outputs": [],
   "source": []
  }
 ],
 "metadata": {
  "kernelspec": {
   "display_name": "Python 3 (ipykernel)",
   "language": "python",
   "name": "python3"
  },
  "language_info": {
   "codemirror_mode": {
    "name": "ipython",
    "version": 3
   },
   "file_extension": ".py",
   "mimetype": "text/x-python",
   "name": "python",
   "nbconvert_exporter": "python",
   "pygments_lexer": "ipython3",
   "version": "3.11.1"
  }
 },
 "nbformat": 4,
 "nbformat_minor": 5
}
